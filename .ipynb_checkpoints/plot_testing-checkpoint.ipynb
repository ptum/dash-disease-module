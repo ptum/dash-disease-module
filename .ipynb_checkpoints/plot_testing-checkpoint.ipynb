{
 "cells": [
  {
   "cell_type": "code",
   "execution_count": 29,
   "metadata": {},
   "outputs": [],
   "source": [
    "import networkx as nx\n",
    "from plotly.graph_objs import *\n",
    "\n",
    "path_to_data='data/'\n",
    "g = nx.read_graphml(path_to_data+'trait_similarity_network.graphml')\n"
   ]
  },
  {
   "cell_type": "code",
   "execution_count": 43,
   "metadata": {
    "scrolled": true
   },
   "outputs": [
    {
     "name": "stdout",
     "output_type": "stream",
     "text": [
      "['n12', 'n13', 'n10', 'n11', 'n16', 'n17', 'n14', 'n15', 'n18', 'n19', 'n38', 'n39', 'n30', 'n31', 'n32', 'n33', 'n34', 'n35', 'n36', 'n37', 'n41', 'n40', 'n43', 'n42', 'n45', 'n44', 'n47', 'n46', 'n29', 'n28', 'n23', 'n22', 'n21', 'n20', 'n27', 'n26', 'n25', 'n24', 'n8', 'n9', 'n0', 'n1', 'n2', 'n3', 'n4', 'n5', 'n6', 'n7']\n",
      "[6, 2, 8, 1, 0, 10, 0, 0, 2, 16, 0, 8, 10, 0, 14, 10, 12, 4, 4, 6, 6, 16, 14, 13, 4, 12, 11, 2, 7, 10, 5, 7, 2, 25, 10, 11, 0, 1, 5, 0, 2, 13, 6, 12, 9, 0, 7, 9]\n"
     ]
    }
   ],
   "source": [
    "pos=nx.fruchterman_reingold_layout(g)\n",
    "print nx.nodes(g)\n",
    "\n",
    "Xv=[]\n",
    "Yv=[]\n",
    "for node in g.nodes():\n",
    "    Xv+=[pos[node][0]]\n",
    "    Yv+=[pos[node][1]]\n",
    "print [i[1] for i in g.degree()]"
   ]
  },
  {
   "cell_type": "code",
   "execution_count": null,
   "metadata": {
    "collapsed": true
   },
   "outputs": [],
   "source": []
  },
  {
   "cell_type": "code",
   "execution_count": 59,
   "metadata": {},
   "outputs": [
    {
     "data": {
      "text/html": [
       "<iframe id=\"igraph\" scrolling=\"no\" style=\"border:none;\" seamless=\"seamless\" src=\"https://plot.ly/~sarvenaz/48.embed\" height=\"800px\" width=\"800px\"></iframe>"
      ],
      "text/plain": [
       "<plotly.tools.PlotlyDisplay object>"
      ]
     },
     "execution_count": 59,
     "metadata": {},
     "output_type": "execute_result"
    }
   ],
   "source": [
    "def trait_sim_graph(g):\n",
    "    pos=nx.spring_layout(g,k=1.12)\n",
    "    N = nx.number_of_nodes(g)\n",
    "    labels = [str(u[1]['name']) for u in g.nodes(data=True)]\n",
    "    d =[i[1] for i in g.degree()]\n",
    "    # d = g.degree().values()\n",
    "\n",
    "    Xv=[]\n",
    "    Yv=[]\n",
    "    for node in g.nodes():\n",
    "        Xv+=[pos[node][0]]\n",
    "        Yv+=[pos[node][1]]\n",
    "    Xed=[]\n",
    "    Yed=[]\n",
    "    for edge in nx.edges(g):\n",
    "        Xed+=[pos[edge[0]][0],pos[edge[1]][0], None]\n",
    "        Yed+=[pos[edge[0]][1],pos[edge[1]][1], None] \n",
    "    \n",
    "    \n",
    "    \n",
    "    ### plotting setting\n",
    "\n",
    "    trace3=Scatter(x=Xed,\n",
    "                   y=Yed,\n",
    "                   mode='lines',\n",
    "                   line=Line(color='rgb(210,210,210)', width=1),\n",
    "                   hoverinfo='none'\n",
    "                   )\n",
    "\n",
    "    trace4=Scatter(x=Xv,\n",
    "                   y=Yv,\n",
    "                   mode='markers',\n",
    "                   name='net',\n",
    "                   marker=Marker(symbol='dot',\n",
    "                                 size=[20+i for i in d], \n",
    "                                 color=[i for i in range(len(Xed))],\n",
    "                                colorscale='Viridis',\n",
    "                                 showscale=False,\n",
    "                                 colorbar = dict(\n",
    "                                            title = 'Number of modules',\n",
    "                                            titleside = 'top',\n",
    "                                            tickmode = 'array',\n",
    "                                            ticks = 'outside'\n",
    "                                        ),\n",
    "                                 line=Line(color='rgb(50,50,50)', width=0.5)\n",
    "                                 ),\n",
    "                   text=labels,\n",
    "                   hoverinfo='text'\n",
    "                   )\n",
    "\n",
    "    annot=\"This networkx.Graph has the Fruchterman-Reingold layout<br>Code:\"+    \"<a href='http://nbviewer.ipython.org/gist/empet/07ea33b2e4e0b84193bd'> [2]</a>\"\n",
    "\n",
    "    axis=dict(showline=False, # hide axis line, grid, ticklabels and  title\n",
    "          zeroline=False,\n",
    "          showgrid=False,\n",
    "          showticklabels=False,\n",
    "          title='' \n",
    "          )\n",
    "\n",
    "    width=800\n",
    "    height=800\n",
    "    layout=Layout(title= \"\",  \n",
    "        font= Font(size=12),\n",
    "        showlegend=False,\n",
    "        autosize=False,\n",
    "        width=width,\n",
    "        height=height,\n",
    "        xaxis=XAxis(axis),\n",
    "        yaxis=YAxis(axis),          \n",
    "        margin=Margin(\n",
    "            l=40,\n",
    "            r=40,\n",
    "            b=85,\n",
    "            t=100,\n",
    "        ),\n",
    "        hovermode='closest',\n",
    "        annotations=Annotations([\n",
    "               Annotation(\n",
    "               showarrow=False, \n",
    "                text='Node size is proportional to the degree of nodes',  \n",
    "                xref='paper',     \n",
    "                yref='paper',     \n",
    "                x=0,  \n",
    "                y=-0.1,  \n",
    "                xanchor='left',   \n",
    "                yanchor='bottom',  \n",
    "                font=Font(\n",
    "                size=14 \n",
    "                )     \n",
    "                )\n",
    "            ]),           \n",
    "        )\n",
    "\n",
    "    data1=Data([trace3, trace4])\n",
    "    fig1=Figure(data=data1, layout=layout)\n",
    "    return fig1\n",
    "\n",
    "py.iplot(trait_sim_graph(g))"
   ]
  },
  {
   "cell_type": "code",
   "execution_count": 53,
   "metadata": {},
   "outputs": [
    {
     "name": "stdout",
     "output_type": "stream",
     "text": [
      "[-3.1377826699036917, 1.081765361364079, -1.3333584521673525]\n",
      "igraph.Vertex(<igraph.Graph object at 0x151e5b3a00>,0,{'name': 'Type 2 diabetes', 'id': 'n0'})\n",
      "[1, 2, 3, 4, 5, 6, 7, 8, 9, 10, 11, 12, 13, 14, 15, 16, 17, 18, 19, 20, 21, 22, 23, 24, 25, 26, 27, 28, 29, 30, 31, 32, 33, 34, 35, 36, 37, 38, 39, 40, 41, 42, 43, 44, 45, 46, 47, 48]\n"
     ]
    },
    {
     "data": {
      "text/html": [
       "<iframe id=\"igraph\" scrolling=\"no\" style=\"border:none;\" seamless=\"seamless\" src=\"https://plot.ly/~sarvenaz/36.embed\" height=\"800px\" width=\"800px\"></iframe>"
      ],
      "text/plain": [
       "<plotly.tools.PlotlyDisplay object>"
      ]
     },
     "execution_count": 53,
     "metadata": {},
     "output_type": "execute_result"
    }
   ],
   "source": [
    "# 3d graph\n",
    "\n",
    "import igraph as ig\n",
    "import plotly.plotly as py\n",
    "from plotly.graph_objs import *\n",
    "\n",
    "G = ig.Graph()\n",
    "G=G.Read_GraphML(path_to_data+'trait_similarity_network.graphml')\n",
    "layt=G.layout('kk', dim=3)\n",
    "N= G.vcount()\n",
    "print layt[5]\n",
    "\n",
    "print G.vs[0]\n",
    "d = G.degree()\n",
    "labels=[]\n",
    "for node in G.vs:\n",
    "    labels.append(node['name'])\n",
    "    \n",
    "group =[1+i for i in range(len(labels))]\n",
    "print group\n",
    "Xn=[layt[k][0] for k in range(N)]# x-coordinates of nodes\n",
    "Yn=[layt[k][1] for k in range(N)]# y-coordinates\n",
    "Zn=[layt[k][2] for k in range(N)]# z-coordinates\n",
    "Xe=[]\n",
    "Ye=[]\n",
    "Ze=[]\n",
    "for e in G.get_edgelist():\n",
    "    Xe+=[layt[e[0]][0],layt[e[1]][0], None]# x-coordinates of edge ends\n",
    "    Ye+=[layt[e[0]][1],layt[e[1]][1], None]\n",
    "    Ze+=[layt[e[0]][2],layt[e[1]][2], None]\n",
    "\n",
    "trace1=Scatter(x=Xe,\n",
    "               y=Ye,\n",
    "               mode='lines',\n",
    "               line=Line(color='rgb(210,210,210)', width=1),\n",
    "               hoverinfo='none'\n",
    "               )\n",
    "trace2=Scatter(x=Xn,\n",
    "               y=Yn,\n",
    "               mode='markers',\n",
    "               name='ntw',\n",
    "               marker=Marker(symbol='dot',\n",
    "                             size=[20+i for i in d], \n",
    "                             color=d,\n",
    "                             colorscale='Viridis',\n",
    "                             line=Line(color='rgb(50,50,50)', width=0.5)\n",
    "                             ),\n",
    "               text=labels,\n",
    "               hoverinfo='text'\n",
    "               )\n",
    "\n",
    "axis=dict(showline=False, # hide axis line, grid, ticklabels and  title\n",
    "          zeroline=False,\n",
    "          showgrid=False,\n",
    "          showticklabels=False,\n",
    "          title='' \n",
    "          )\n",
    "\n",
    "width=800\n",
    "height=800\n",
    "layout=Layout(title= \"\",  \n",
    "    font= Font(size=12),\n",
    "    showlegend=False,\n",
    "    autosize=False,\n",
    "    width=width,\n",
    "    height=height,\n",
    "    xaxis=XAxis(axis),\n",
    "    yaxis=YAxis(axis),          \n",
    "    margin=Margin(\n",
    "        l=40,\n",
    "        r=40,\n",
    "        b=85,\n",
    "        t=100,\n",
    "    ),\n",
    "    hovermode='closest',\n",
    "    annotations=Annotations([\n",
    "           Annotation(\n",
    "           showarrow=False, \n",
    "            text='Node size is proportional to the degree of nodes.',  \n",
    "            xref='paper',     \n",
    "            yref='paper',     \n",
    "            x=0,  \n",
    "            y=-0.1,  \n",
    "            xanchor='left',   \n",
    "            yanchor='bottom',  \n",
    "            font=Font(\n",
    "            size=14 \n",
    "            )     \n",
    "            )\n",
    "        ]),           \n",
    "    )\n",
    "\n",
    "data=Data([trace1, trace2])\n",
    "fig=Figure(data=data, layout=layout)\n",
    "py.iplot(fig, filename='trait-graph')"
   ]
  }
 ],
 "metadata": {
  "kernelspec": {
   "display_name": "Python [conda root]",
   "language": "python",
   "name": "conda-root-py"
  },
  "language_info": {
   "codemirror_mode": {
    "name": "ipython",
    "version": 2
   },
   "file_extension": ".py",
   "mimetype": "text/x-python",
   "name": "python",
   "nbconvert_exporter": "python",
   "pygments_lexer": "ipython2",
   "version": "2.7.13"
  }
 },
 "nbformat": 4,
 "nbformat_minor": 2
}
